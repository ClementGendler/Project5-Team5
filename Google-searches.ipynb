{
 "cells": [
  {
   "cell_type": "markdown",
   "metadata": {},
   "source": [
    "### Covidcast -- Google search data"
   ]
  },
  {
   "cell_type": "code",
   "execution_count": 1,
   "metadata": {},
   "outputs": [],
   "source": [
    "# !pip install covidcast"
   ]
  },
  {
   "cell_type": "code",
   "execution_count": 17,
   "metadata": {},
   "outputs": [],
   "source": [
    "import pandas as pd\n",
    "import numpy as np\n",
    "from datetime import date\n",
    "import covidcast\n",
    "import pickle"
   ]
  },
  {
   "cell_type": "markdown",
   "metadata": {},
   "source": [
    "### data_dictionary = https://cmu-delphi.github.io/delphi-epidata/api/covidcast-signals/ght.html\n",
    "Google searches, provided to us by Google Health Trends. \n",
    "- estimate the volume of COVID-related searches in a given location, on a given day. \n",
    "- signal is measured in arbitrary units (its scale is meaningless); larger numbers represent higher numbers of COVID-related searches.\n",
    "- overall searcher interest in a set of COVID-19 related terms about anosmia (lack of smell or taste), which emerged as a symptom of the coronavirus. The specific terms are:\n",
    ">“why cant i smell or taste”  OR  “loss of smell”  OR  “loss of taste”\n",
    "- information reported by the API is unitless and pre-normalized for population size; i.e., the time series obtained for New York and Wyoming states are directly comparable\n",
    "\n",
    "\n",
    "difference between time_value and issue ... they are both dates\n",
    "- time_value is the date the search was completed\n",
    "- issue is the date the data was collected/published by Google.  collection started in May (may 6), and was sporadic until late July (july 15). Since july, query data has been published daily.\n"
   ]
  },
  {
   "cell_type": "markdown",
   "metadata": {},
   "source": [
    "### Collect data from Google Covidcast.\n",
    "**1.**  Data used in modeling is saved to pickle file below.  If you wish to reload data (not necessary), uncomment cells immediately.  \n",
    "**2.**  If you re-load data with this command, you will receive errors indicating \"UserWarning: Problem obtaining data on 20200817: no results\" for three dates:  20200817, 20200821, 20200919.  These are warnings, not fatal errors, and may be ignored."
   ]
  },
  {
   "cell_type": "code",
   "execution_count": 18,
   "metadata": {
    "collapsed": true,
    "jupyter": {
     "outputs_hidden": true
    }
   },
   "outputs": [
    {
     "name": "stderr",
     "output_type": "stream",
     "text": [
      "/Users/nevochka/opt/anaconda3/lib/python3.8/site-packages/covidcast/covidcast.py:372: UserWarning: Problem obtaining data on 20200817: no results\n",
      "  warnings.warn(\"Problem obtaining data on {day}: {message}\".format(\n",
      "/Users/nevochka/opt/anaconda3/lib/python3.8/site-packages/covidcast/covidcast.py:372: UserWarning: Problem obtaining data on 20200821: no results\n",
      "  warnings.warn(\"Problem obtaining data on {day}: {message}\".format(\n",
      "/Users/nevochka/opt/anaconda3/lib/python3.8/site-packages/covidcast/covidcast.py:372: UserWarning: Problem obtaining data on 20200919: no results\n",
      "  warnings.warn(\"Problem obtaining data on {day}: {message}\".format(\n"
     ]
    }
   ],
   "source": [
    "# google = covidcast.signal(\"ght\", \"smoothed_search\",\n",
    "#                         date(2020, 2, 1), date(2020, 10, 26),\n",
    "#                         \"state\")"
   ]
  },
  {
   "cell_type": "code",
   "execution_count": 20,
   "metadata": {},
   "outputs": [
    {
     "data": {
      "text/plain": [
       "(13521, 11)"
      ]
     },
     "execution_count": 20,
     "metadata": {},
     "output_type": "execute_result"
    }
   ],
   "source": [
    "# google.shape"
   ]
  },
  {
   "cell_type": "code",
   "execution_count": 21,
   "metadata": {},
   "outputs": [
    {
     "data": {
      "text/html": [
       "<div>\n",
       "<style scoped>\n",
       "    .dataframe tbody tr th:only-of-type {\n",
       "        vertical-align: middle;\n",
       "    }\n",
       "\n",
       "    .dataframe tbody tr th {\n",
       "        vertical-align: top;\n",
       "    }\n",
       "\n",
       "    .dataframe thead th {\n",
       "        text-align: right;\n",
       "    }\n",
       "</style>\n",
       "<table border=\"1\" class=\"dataframe\">\n",
       "  <thead>\n",
       "    <tr style=\"text-align: right;\">\n",
       "      <th></th>\n",
       "      <th>geo_value</th>\n",
       "      <th>signal</th>\n",
       "      <th>time_value</th>\n",
       "      <th>direction</th>\n",
       "      <th>issue</th>\n",
       "      <th>lag</th>\n",
       "      <th>value</th>\n",
       "      <th>stderr</th>\n",
       "      <th>sample_size</th>\n",
       "      <th>geo_type</th>\n",
       "      <th>data_source</th>\n",
       "    </tr>\n",
       "  </thead>\n",
       "  <tbody>\n",
       "    <tr>\n",
       "      <th>0</th>\n",
       "      <td>ak</td>\n",
       "      <td>smoothed_search</td>\n",
       "      <td>2020-02-01</td>\n",
       "      <td>None</td>\n",
       "      <td>2020-05-06</td>\n",
       "      <td>95</td>\n",
       "      <td>0.000000</td>\n",
       "      <td>None</td>\n",
       "      <td>None</td>\n",
       "      <td>state</td>\n",
       "      <td>ght</td>\n",
       "    </tr>\n",
       "    <tr>\n",
       "      <th>1</th>\n",
       "      <td>al</td>\n",
       "      <td>smoothed_search</td>\n",
       "      <td>2020-02-01</td>\n",
       "      <td>None</td>\n",
       "      <td>2020-05-06</td>\n",
       "      <td>95</td>\n",
       "      <td>2.016856</td>\n",
       "      <td>None</td>\n",
       "      <td>None</td>\n",
       "      <td>state</td>\n",
       "      <td>ght</td>\n",
       "    </tr>\n",
       "    <tr>\n",
       "      <th>2</th>\n",
       "      <td>ar</td>\n",
       "      <td>smoothed_search</td>\n",
       "      <td>2020-02-01</td>\n",
       "      <td>None</td>\n",
       "      <td>2020-05-06</td>\n",
       "      <td>95</td>\n",
       "      <td>3.961135</td>\n",
       "      <td>None</td>\n",
       "      <td>None</td>\n",
       "      <td>state</td>\n",
       "      <td>ght</td>\n",
       "    </tr>\n",
       "    <tr>\n",
       "      <th>3</th>\n",
       "      <td>az</td>\n",
       "      <td>smoothed_search</td>\n",
       "      <td>2020-02-01</td>\n",
       "      <td>None</td>\n",
       "      <td>2020-05-06</td>\n",
       "      <td>95</td>\n",
       "      <td>1.732458</td>\n",
       "      <td>None</td>\n",
       "      <td>None</td>\n",
       "      <td>state</td>\n",
       "      <td>ght</td>\n",
       "    </tr>\n",
       "    <tr>\n",
       "      <th>4</th>\n",
       "      <td>ca</td>\n",
       "      <td>smoothed_search</td>\n",
       "      <td>2020-02-01</td>\n",
       "      <td>None</td>\n",
       "      <td>2020-05-06</td>\n",
       "      <td>95</td>\n",
       "      <td>4.639261</td>\n",
       "      <td>None</td>\n",
       "      <td>None</td>\n",
       "      <td>state</td>\n",
       "      <td>ght</td>\n",
       "    </tr>\n",
       "  </tbody>\n",
       "</table>\n",
       "</div>"
      ],
      "text/plain": [
       "  geo_value           signal time_value direction      issue  lag     value  \\\n",
       "0        ak  smoothed_search 2020-02-01      None 2020-05-06   95  0.000000   \n",
       "1        al  smoothed_search 2020-02-01      None 2020-05-06   95  2.016856   \n",
       "2        ar  smoothed_search 2020-02-01      None 2020-05-06   95  3.961135   \n",
       "3        az  smoothed_search 2020-02-01      None 2020-05-06   95  1.732458   \n",
       "4        ca  smoothed_search 2020-02-01      None 2020-05-06   95  4.639261   \n",
       "\n",
       "  stderr sample_size geo_type data_source  \n",
       "0   None        None    state         ght  \n",
       "1   None        None    state         ght  \n",
       "2   None        None    state         ght  \n",
       "3   None        None    state         ght  \n",
       "4   None        None    state         ght  "
      ]
     },
     "execution_count": 21,
     "metadata": {},
     "output_type": "execute_result"
    }
   ],
   "source": [
    "# google.head(5)"
   ]
  },
  {
   "cell_type": "code",
   "execution_count": 38,
   "metadata": {},
   "outputs": [],
   "source": [
    "# google.to_pickle('./data/google_raw.pkl')    # uncomment to re-save data"
   ]
  },
  {
   "cell_type": "markdown",
   "metadata": {},
   "source": [
    "### Clean Google search data for input into models.\n",
    "Final pickle file created below."
   ]
  },
  {
   "cell_type": "code",
   "execution_count": 5,
   "metadata": {},
   "outputs": [
    {
     "data": {
      "text/html": [
       "<div>\n",
       "<style scoped>\n",
       "    .dataframe tbody tr th:only-of-type {\n",
       "        vertical-align: middle;\n",
       "    }\n",
       "\n",
       "    .dataframe tbody tr th {\n",
       "        vertical-align: top;\n",
       "    }\n",
       "\n",
       "    .dataframe thead th {\n",
       "        text-align: right;\n",
       "    }\n",
       "</style>\n",
       "<table border=\"1\" class=\"dataframe\">\n",
       "  <thead>\n",
       "    <tr style=\"text-align: right;\">\n",
       "      <th></th>\n",
       "      <th>geo_value</th>\n",
       "      <th>signal</th>\n",
       "      <th>time_value</th>\n",
       "      <th>direction</th>\n",
       "      <th>issue</th>\n",
       "      <th>lag</th>\n",
       "      <th>value</th>\n",
       "      <th>stderr</th>\n",
       "      <th>sample_size</th>\n",
       "      <th>geo_type</th>\n",
       "      <th>data_source</th>\n",
       "    </tr>\n",
       "  </thead>\n",
       "  <tbody>\n",
       "    <tr>\n",
       "      <th>0</th>\n",
       "      <td>ak</td>\n",
       "      <td>smoothed_search</td>\n",
       "      <td>2020-02-01</td>\n",
       "      <td>None</td>\n",
       "      <td>2020-05-06</td>\n",
       "      <td>95</td>\n",
       "      <td>0.000000</td>\n",
       "      <td>None</td>\n",
       "      <td>None</td>\n",
       "      <td>state</td>\n",
       "      <td>ght</td>\n",
       "    </tr>\n",
       "    <tr>\n",
       "      <th>1</th>\n",
       "      <td>al</td>\n",
       "      <td>smoothed_search</td>\n",
       "      <td>2020-02-01</td>\n",
       "      <td>None</td>\n",
       "      <td>2020-05-06</td>\n",
       "      <td>95</td>\n",
       "      <td>2.016856</td>\n",
       "      <td>None</td>\n",
       "      <td>None</td>\n",
       "      <td>state</td>\n",
       "      <td>ght</td>\n",
       "    </tr>\n",
       "    <tr>\n",
       "      <th>2</th>\n",
       "      <td>ar</td>\n",
       "      <td>smoothed_search</td>\n",
       "      <td>2020-02-01</td>\n",
       "      <td>None</td>\n",
       "      <td>2020-05-06</td>\n",
       "      <td>95</td>\n",
       "      <td>3.961135</td>\n",
       "      <td>None</td>\n",
       "      <td>None</td>\n",
       "      <td>state</td>\n",
       "      <td>ght</td>\n",
       "    </tr>\n",
       "    <tr>\n",
       "      <th>3</th>\n",
       "      <td>az</td>\n",
       "      <td>smoothed_search</td>\n",
       "      <td>2020-02-01</td>\n",
       "      <td>None</td>\n",
       "      <td>2020-05-06</td>\n",
       "      <td>95</td>\n",
       "      <td>1.732458</td>\n",
       "      <td>None</td>\n",
       "      <td>None</td>\n",
       "      <td>state</td>\n",
       "      <td>ght</td>\n",
       "    </tr>\n",
       "    <tr>\n",
       "      <th>4</th>\n",
       "      <td>ca</td>\n",
       "      <td>smoothed_search</td>\n",
       "      <td>2020-02-01</td>\n",
       "      <td>None</td>\n",
       "      <td>2020-05-06</td>\n",
       "      <td>95</td>\n",
       "      <td>4.639261</td>\n",
       "      <td>None</td>\n",
       "      <td>None</td>\n",
       "      <td>state</td>\n",
       "      <td>ght</td>\n",
       "    </tr>\n",
       "  </tbody>\n",
       "</table>\n",
       "</div>"
      ],
      "text/plain": [
       "  geo_value           signal time_value direction      issue  lag     value  \\\n",
       "0        ak  smoothed_search 2020-02-01      None 2020-05-06   95  0.000000   \n",
       "1        al  smoothed_search 2020-02-01      None 2020-05-06   95  2.016856   \n",
       "2        ar  smoothed_search 2020-02-01      None 2020-05-06   95  3.961135   \n",
       "3        az  smoothed_search 2020-02-01      None 2020-05-06   95  1.732458   \n",
       "4        ca  smoothed_search 2020-02-01      None 2020-05-06   95  4.639261   \n",
       "\n",
       "  stderr sample_size geo_type data_source  \n",
       "0   None        None    state         ght  \n",
       "1   None        None    state         ght  \n",
       "2   None        None    state         ght  \n",
       "3   None        None    state         ght  \n",
       "4   None        None    state         ght  "
      ]
     },
     "execution_count": 5,
     "metadata": {},
     "output_type": "execute_result"
    }
   ],
   "source": [
    "data = pd.read_pickle('./data/google_raw.pkl')\n",
    "data.head()"
   ]
  },
  {
   "cell_type": "code",
   "execution_count": 6,
   "metadata": {},
   "outputs": [],
   "source": [
    "# other settings\n",
    "pd.set_option('display.max_columns', None)\n",
    "pd.set_option('display.max_rows', None)"
   ]
  },
  {
   "cell_type": "code",
   "execution_count": 7,
   "metadata": {},
   "outputs": [
    {
     "data": {
      "text/plain": [
       "(13317, 11)"
      ]
     },
     "execution_count": 7,
     "metadata": {},
     "output_type": "execute_result"
    }
   ],
   "source": [
    "data.shape"
   ]
  },
  {
   "cell_type": "code",
   "execution_count": 8,
   "metadata": {},
   "outputs": [
    {
     "name": "stdout",
     "output_type": "stream",
     "text": [
      "<class 'pandas.core.frame.DataFrame'>\n",
      "Int64Index: 13317 entries, 0 to 50\n",
      "Data columns (total 11 columns):\n",
      " #   Column       Non-Null Count  Dtype         \n",
      "---  ------       --------------  -----         \n",
      " 0   geo_value    13317 non-null  object        \n",
      " 1   signal       13317 non-null  object        \n",
      " 2   time_value   13317 non-null  datetime64[ns]\n",
      " 3   direction    8173 non-null   object        \n",
      " 4   issue        13317 non-null  datetime64[ns]\n",
      " 5   lag          13317 non-null  int64         \n",
      " 6   value        13317 non-null  float64       \n",
      " 7   stderr       0 non-null      object        \n",
      " 8   sample_size  0 non-null      object        \n",
      " 9   geo_type     13317 non-null  object        \n",
      " 10  data_source  13317 non-null  object        \n",
      "dtypes: datetime64[ns](2), float64(1), int64(1), object(7)\n",
      "memory usage: 1.2+ MB\n"
     ]
    }
   ],
   "source": [
    "data.info()"
   ]
  },
  {
   "cell_type": "code",
   "execution_count": 9,
   "metadata": {},
   "outputs": [],
   "source": [
    "#datetime to index, sort\n",
    "data.set_index('time_value', inplace=True)"
   ]
  },
  {
   "cell_type": "code",
   "execution_count": 10,
   "metadata": {},
   "outputs": [
    {
     "data": {
      "text/html": [
       "<div>\n",
       "<style scoped>\n",
       "    .dataframe tbody tr th:only-of-type {\n",
       "        vertical-align: middle;\n",
       "    }\n",
       "\n",
       "    .dataframe tbody tr th {\n",
       "        vertical-align: top;\n",
       "    }\n",
       "\n",
       "    .dataframe thead th {\n",
       "        text-align: right;\n",
       "    }\n",
       "</style>\n",
       "<table border=\"1\" class=\"dataframe\">\n",
       "  <thead>\n",
       "    <tr style=\"text-align: right;\">\n",
       "      <th></th>\n",
       "      <th>geo_value</th>\n",
       "      <th>signal</th>\n",
       "      <th>direction</th>\n",
       "      <th>issue</th>\n",
       "      <th>lag</th>\n",
       "      <th>value</th>\n",
       "      <th>stderr</th>\n",
       "      <th>sample_size</th>\n",
       "      <th>geo_type</th>\n",
       "      <th>data_source</th>\n",
       "    </tr>\n",
       "    <tr>\n",
       "      <th>time_value</th>\n",
       "      <th></th>\n",
       "      <th></th>\n",
       "      <th></th>\n",
       "      <th></th>\n",
       "      <th></th>\n",
       "      <th></th>\n",
       "      <th></th>\n",
       "      <th></th>\n",
       "      <th></th>\n",
       "      <th></th>\n",
       "    </tr>\n",
       "  </thead>\n",
       "  <tbody>\n",
       "    <tr>\n",
       "      <th>2020-02-01</th>\n",
       "      <td>ak</td>\n",
       "      <td>smoothed_search</td>\n",
       "      <td>None</td>\n",
       "      <td>2020-05-06</td>\n",
       "      <td>95</td>\n",
       "      <td>0.000000</td>\n",
       "      <td>None</td>\n",
       "      <td>None</td>\n",
       "      <td>state</td>\n",
       "      <td>ght</td>\n",
       "    </tr>\n",
       "    <tr>\n",
       "      <th>2020-02-01</th>\n",
       "      <td>al</td>\n",
       "      <td>smoothed_search</td>\n",
       "      <td>None</td>\n",
       "      <td>2020-05-06</td>\n",
       "      <td>95</td>\n",
       "      <td>2.016856</td>\n",
       "      <td>None</td>\n",
       "      <td>None</td>\n",
       "      <td>state</td>\n",
       "      <td>ght</td>\n",
       "    </tr>\n",
       "    <tr>\n",
       "      <th>2020-02-01</th>\n",
       "      <td>ar</td>\n",
       "      <td>smoothed_search</td>\n",
       "      <td>None</td>\n",
       "      <td>2020-05-06</td>\n",
       "      <td>95</td>\n",
       "      <td>3.961135</td>\n",
       "      <td>None</td>\n",
       "      <td>None</td>\n",
       "      <td>state</td>\n",
       "      <td>ght</td>\n",
       "    </tr>\n",
       "    <tr>\n",
       "      <th>2020-02-01</th>\n",
       "      <td>az</td>\n",
       "      <td>smoothed_search</td>\n",
       "      <td>None</td>\n",
       "      <td>2020-05-06</td>\n",
       "      <td>95</td>\n",
       "      <td>1.732458</td>\n",
       "      <td>None</td>\n",
       "      <td>None</td>\n",
       "      <td>state</td>\n",
       "      <td>ght</td>\n",
       "    </tr>\n",
       "    <tr>\n",
       "      <th>2020-02-01</th>\n",
       "      <td>ca</td>\n",
       "      <td>smoothed_search</td>\n",
       "      <td>None</td>\n",
       "      <td>2020-05-06</td>\n",
       "      <td>95</td>\n",
       "      <td>4.639261</td>\n",
       "      <td>None</td>\n",
       "      <td>None</td>\n",
       "      <td>state</td>\n",
       "      <td>ght</td>\n",
       "    </tr>\n",
       "  </tbody>\n",
       "</table>\n",
       "</div>"
      ],
      "text/plain": [
       "           geo_value           signal direction      issue  lag     value  \\\n",
       "time_value                                                                  \n",
       "2020-02-01        ak  smoothed_search      None 2020-05-06   95  0.000000   \n",
       "2020-02-01        al  smoothed_search      None 2020-05-06   95  2.016856   \n",
       "2020-02-01        ar  smoothed_search      None 2020-05-06   95  3.961135   \n",
       "2020-02-01        az  smoothed_search      None 2020-05-06   95  1.732458   \n",
       "2020-02-01        ca  smoothed_search      None 2020-05-06   95  4.639261   \n",
       "\n",
       "           stderr sample_size geo_type data_source  \n",
       "time_value                                          \n",
       "2020-02-01   None        None    state         ght  \n",
       "2020-02-01   None        None    state         ght  \n",
       "2020-02-01   None        None    state         ght  \n",
       "2020-02-01   None        None    state         ght  \n",
       "2020-02-01   None        None    state         ght  "
      ]
     },
     "execution_count": 10,
     "metadata": {},
     "output_type": "execute_result"
    }
   ],
   "source": [
    "data.head()"
   ]
  },
  {
   "cell_type": "code",
   "execution_count": 11,
   "metadata": {},
   "outputs": [
    {
     "data": {
      "text/plain": [
       " 0    0.698030\n",
       " 1    0.160039\n",
       "-1    0.141931\n",
       "Name: direction, dtype: float64"
      ]
     },
     "execution_count": 11,
     "metadata": {},
     "output_type": "execute_result"
    }
   ],
   "source": [
    "#explore\n",
    "data['direction'].value_counts(ascending=False, normalize=True)"
   ]
  },
  {
   "cell_type": "code",
   "execution_count": 12,
   "metadata": {},
   "outputs": [],
   "source": [
    "# uppercase the state columns ['geo_value']\n",
    "# uncomment if need to revise\n",
    "\n",
    "# data['geo_value'] = data['geo_value'].str.upper()\n",
    "# data['geo_value']"
   ]
  },
  {
   "cell_type": "code",
   "execution_count": 13,
   "metadata": {},
   "outputs": [
    {
     "data": {
      "text/html": [
       "<div>\n",
       "<style scoped>\n",
       "    .dataframe tbody tr th:only-of-type {\n",
       "        vertical-align: middle;\n",
       "    }\n",
       "\n",
       "    .dataframe tbody tr th {\n",
       "        vertical-align: top;\n",
       "    }\n",
       "\n",
       "    .dataframe thead th {\n",
       "        text-align: right;\n",
       "    }\n",
       "</style>\n",
       "<table border=\"1\" class=\"dataframe\">\n",
       "  <thead>\n",
       "    <tr style=\"text-align: right;\">\n",
       "      <th></th>\n",
       "      <th>geo_value</th>\n",
       "      <th>direction</th>\n",
       "      <th>lag</th>\n",
       "      <th>value</th>\n",
       "    </tr>\n",
       "    <tr>\n",
       "      <th>time_value</th>\n",
       "      <th></th>\n",
       "      <th></th>\n",
       "      <th></th>\n",
       "      <th></th>\n",
       "    </tr>\n",
       "  </thead>\n",
       "  <tbody>\n",
       "    <tr>\n",
       "      <th>2020-02-01</th>\n",
       "      <td>ak</td>\n",
       "      <td>None</td>\n",
       "      <td>95</td>\n",
       "      <td>0.000000</td>\n",
       "    </tr>\n",
       "    <tr>\n",
       "      <th>2020-02-01</th>\n",
       "      <td>al</td>\n",
       "      <td>None</td>\n",
       "      <td>95</td>\n",
       "      <td>2.016856</td>\n",
       "    </tr>\n",
       "    <tr>\n",
       "      <th>2020-02-01</th>\n",
       "      <td>ar</td>\n",
       "      <td>None</td>\n",
       "      <td>95</td>\n",
       "      <td>3.961135</td>\n",
       "    </tr>\n",
       "    <tr>\n",
       "      <th>2020-02-01</th>\n",
       "      <td>az</td>\n",
       "      <td>None</td>\n",
       "      <td>95</td>\n",
       "      <td>1.732458</td>\n",
       "    </tr>\n",
       "    <tr>\n",
       "      <th>2020-02-01</th>\n",
       "      <td>ca</td>\n",
       "      <td>None</td>\n",
       "      <td>95</td>\n",
       "      <td>4.639261</td>\n",
       "    </tr>\n",
       "  </tbody>\n",
       "</table>\n",
       "</div>"
      ],
      "text/plain": [
       "           geo_value direction  lag     value\n",
       "time_value                                   \n",
       "2020-02-01        ak      None   95  0.000000\n",
       "2020-02-01        al      None   95  2.016856\n",
       "2020-02-01        ar      None   95  3.961135\n",
       "2020-02-01        az      None   95  1.732458\n",
       "2020-02-01        ca      None   95  4.639261"
      ]
     },
     "execution_count": 13,
     "metadata": {},
     "output_type": "execute_result"
    }
   ],
   "source": [
    "#remove several columns to reduce size\n",
    "\n",
    "df_google = data.drop(columns=['signal', 'issue', 'stderr', 'sample_size', 'geo_type', 'data_source'])\n",
    "df_google.head()"
   ]
  },
  {
   "cell_type": "code",
   "execution_count": 14,
   "metadata": {},
   "outputs": [],
   "source": [
    "df_google.to_csv('./data/data_state_detail/google_clean.csv')"
   ]
  },
  {
   "cell_type": "code",
   "execution_count": 15,
   "metadata": {},
   "outputs": [],
   "source": [
    "df_google.to_pickle('./data/google_clean.pkl')"
   ]
  },
  {
   "cell_type": "code",
   "execution_count": 16,
   "metadata": {},
   "outputs": [
    {
     "data": {
      "text/html": [
       "<div>\n",
       "<style scoped>\n",
       "    .dataframe tbody tr th:only-of-type {\n",
       "        vertical-align: middle;\n",
       "    }\n",
       "\n",
       "    .dataframe tbody tr th {\n",
       "        vertical-align: top;\n",
       "    }\n",
       "\n",
       "    .dataframe thead th {\n",
       "        text-align: right;\n",
       "    }\n",
       "</style>\n",
       "<table border=\"1\" class=\"dataframe\">\n",
       "  <thead>\n",
       "    <tr style=\"text-align: right;\">\n",
       "      <th></th>\n",
       "      <th>geo_value</th>\n",
       "      <th>direction</th>\n",
       "      <th>lag</th>\n",
       "      <th>value</th>\n",
       "    </tr>\n",
       "    <tr>\n",
       "      <th>time_value</th>\n",
       "      <th></th>\n",
       "      <th></th>\n",
       "      <th></th>\n",
       "      <th></th>\n",
       "    </tr>\n",
       "  </thead>\n",
       "  <tbody>\n",
       "    <tr>\n",
       "      <th>2020-02-01</th>\n",
       "      <td>ak</td>\n",
       "      <td>None</td>\n",
       "      <td>95</td>\n",
       "      <td>0.000000</td>\n",
       "    </tr>\n",
       "    <tr>\n",
       "      <th>2020-02-01</th>\n",
       "      <td>al</td>\n",
       "      <td>None</td>\n",
       "      <td>95</td>\n",
       "      <td>2.016856</td>\n",
       "    </tr>\n",
       "    <tr>\n",
       "      <th>2020-02-01</th>\n",
       "      <td>ar</td>\n",
       "      <td>None</td>\n",
       "      <td>95</td>\n",
       "      <td>3.961135</td>\n",
       "    </tr>\n",
       "    <tr>\n",
       "      <th>2020-02-01</th>\n",
       "      <td>az</td>\n",
       "      <td>None</td>\n",
       "      <td>95</td>\n",
       "      <td>1.732458</td>\n",
       "    </tr>\n",
       "    <tr>\n",
       "      <th>2020-02-01</th>\n",
       "      <td>ca</td>\n",
       "      <td>None</td>\n",
       "      <td>95</td>\n",
       "      <td>4.639261</td>\n",
       "    </tr>\n",
       "  </tbody>\n",
       "</table>\n",
       "</div>"
      ],
      "text/plain": [
       "           geo_value direction  lag     value\n",
       "time_value                                   \n",
       "2020-02-01        ak      None   95  0.000000\n",
       "2020-02-01        al      None   95  2.016856\n",
       "2020-02-01        ar      None   95  3.961135\n",
       "2020-02-01        az      None   95  1.732458\n",
       "2020-02-01        ca      None   95  4.639261"
      ]
     },
     "execution_count": 16,
     "metadata": {},
     "output_type": "execute_result"
    }
   ],
   "source": [
    "google = pd.read_pickle('./data/google_clean.pkl')\n",
    "google.head()"
   ]
  },
  {
   "cell_type": "code",
   "execution_count": null,
   "metadata": {},
   "outputs": [],
   "source": []
  }
 ],
 "metadata": {
  "kernelspec": {
   "display_name": "Python 3",
   "language": "python",
   "name": "python3"
  },
  "language_info": {
   "codemirror_mode": {
    "name": "ipython",
    "version": 3
   },
   "file_extension": ".py",
   "mimetype": "text/x-python",
   "name": "python",
   "nbconvert_exporter": "python",
   "pygments_lexer": "ipython3",
   "version": "3.8.3"
  }
 },
 "nbformat": 4,
 "nbformat_minor": 4
}
