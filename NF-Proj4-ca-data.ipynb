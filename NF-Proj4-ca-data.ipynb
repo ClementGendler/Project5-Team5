{
 "cells": [
  {
   "cell_type": "markdown",
   "metadata": {},
   "source": [
    "#### This sheet is for cleaning and EDA on CALIFORNIA data"
   ]
  },
  {
   "cell_type": "markdown",
   "metadata": {},
   "source": [
    "Gameplan to get input for rough model\n",
    "1. location\n",
    "1. covid\n",
    "1. health\n",
    "1. govt action\n",
    "\n",
    "Cleaning steps\n",
    "1. nulls\n",
    "1. datatypes\n",
    "1. ??\n",
    "\n",
    "EDA steps"
   ]
  },
  {
   "cell_type": "code",
   "execution_count": 2,
   "metadata": {},
   "outputs": [],
   "source": [
    "# imports\n",
    "\n",
    "import pandas as pd"
   ]
  },
  {
   "cell_type": "code",
   "execution_count": 3,
   "metadata": {},
   "outputs": [],
   "source": [
    "# other settings\n",
    "pd.set_option('display.max_columns', None)\n",
    "pd.set_option('display.max_rows', None)"
   ]
  },
  {
   "cell_type": "code",
   "execution_count": 5,
   "metadata": {},
   "outputs": [
    {
     "name": "stderr",
     "output_type": "stream",
     "text": [
      "/Users/nevochka/opt/anaconda3/lib/python3.8/site-packages/IPython/core/interactiveshell.py:3071: DtypeWarning: Columns (12,13) have mixed types.Specify dtype option on import or set low_memory=False.\n",
      "  has_raised = await self.run_ast_nodes(code_ast.body, cell_name,\n"
     ]
    },
    {
     "data": {
      "text/plain": [
       "(17700, 110)"
      ]
     },
     "execution_count": 5,
     "metadata": {},
     "output_type": "execute_result"
    }
   ],
   "source": [
    "# read in CA data\n",
    "data = pd.read_csv('./data/data_ca_raw.csv')\n",
    "data.shape"
   ]
  },
  {
   "cell_type": "code",
   "execution_count": 8,
   "metadata": {
    "collapsed": true,
    "jupyter": {
     "outputs_hidden": true
    }
   },
   "outputs": [
    {
     "name": "stdout",
     "output_type": "stream",
     "text": [
      "<class 'pandas.core.frame.DataFrame'>\n",
      "RangeIndex: 17700 entries, 0 to 17699\n",
      "Data columns (total 110 columns):\n",
      " #   Column                              Dtype  \n",
      "---  ------                              -----  \n",
      " 0   Unnamed: 0                          int64  \n",
      " 1   Unnamed: 0.1                        int64  \n",
      " 2   key                                 object \n",
      " 3   date                                object \n",
      " 4   wikidata                            object \n",
      " 5   datacommons                         object \n",
      " 6   country_code                        object \n",
      " 7   country_name                        object \n",
      " 8   subregion1_code                     object \n",
      " 9   subregion1_name                     object \n",
      " 10  subregion2_code                     float64\n",
      " 11  subregion2_name                     object \n",
      " 12  locality_code                       object \n",
      " 13  locality_name                       object \n",
      " 14  3166-1-alpha-2                      object \n",
      " 15  3166-1-alpha-3                      object \n",
      " 16  aggregation_level                   int64  \n",
      " 17  new_confirmed                       float64\n",
      " 18  new_deceased                        float64\n",
      " 19  new_recovered                       float64\n",
      " 20  new_tested                          float64\n",
      " 21  total_confirmed                     float64\n",
      " 22  total_deceased                      float64\n",
      " 23  total_recovered                     float64\n",
      " 24  total_tested                        float64\n",
      " 25  new_hospitalized                    float64\n",
      " 26  total_hospitalized                  float64\n",
      " 27  current_hospitalized                float64\n",
      " 28  new_intensive_care                  float64\n",
      " 29  total_intensive_care                float64\n",
      " 30  current_intensive_care              float64\n",
      " 31  new_ventilator                      float64\n",
      " 32  total_ventilator                    float64\n",
      " 33  current_ventilator                  float64\n",
      " 34  population                          float64\n",
      " 35  population_male                     float64\n",
      " 36  population_female                   float64\n",
      " 37  rural_population                    float64\n",
      " 38  urban_population                    float64\n",
      " 39  largest_city_population             float64\n",
      " 40  clustered_population                float64\n",
      " 41  population_density                  float64\n",
      " 42  human_development_index             float64\n",
      " 43  population_age_00_09                float64\n",
      " 44  population_age_10_19                float64\n",
      " 45  population_age_20_29                float64\n",
      " 46  population_age_30_39                float64\n",
      " 47  population_age_40_49                float64\n",
      " 48  population_age_50_59                float64\n",
      " 49  population_age_60_69                float64\n",
      " 50  population_age_70_79                float64\n",
      " 51  population_age_80_89                float64\n",
      " 52  population_age_90_99                float64\n",
      " 53  population_age_80_and_older         float64\n",
      " 54  gdp                                 float64\n",
      " 55  gdp_per_capita                      float64\n",
      " 56  human_capital_index                 float64\n",
      " 57  open_street_maps                    float64\n",
      " 58  latitude                            float64\n",
      " 59  longitude                           float64\n",
      " 60  elevation                           float64\n",
      " 61  area                                float64\n",
      " 62  rural_area                          float64\n",
      " 63  urban_area                          float64\n",
      " 64  life_expectancy                     float64\n",
      " 65  smoking_prevalence                  float64\n",
      " 66  diabetes_prevalence                 float64\n",
      " 67  infant_mortality_rate               float64\n",
      " 68  adult_male_mortality_rate           float64\n",
      " 69  adult_female_mortality_rate         float64\n",
      " 70  pollution_mortality_rate            float64\n",
      " 71  comorbidity_mortality_rate          float64\n",
      " 72  hospital_beds                       float64\n",
      " 73  nurses                              float64\n",
      " 74  physicians                          float64\n",
      " 75  health_expenditure                  float64\n",
      " 76  out_of_pocket_health_expenditure    float64\n",
      " 77  mobility_retail_and_recreation      float64\n",
      " 78  mobility_grocery_and_pharmacy       float64\n",
      " 79  mobility_parks                      float64\n",
      " 80  mobility_transit_stations           float64\n",
      " 81  mobility_workplaces                 float64\n",
      " 82  mobility_residential                float64\n",
      " 83  school_closing                      float64\n",
      " 84  workplace_closing                   float64\n",
      " 85  cancel_public_events                float64\n",
      " 86  restrictions_on_gatherings          float64\n",
      " 87  public_transport_closing            float64\n",
      " 88  stay_at_home_requirements           float64\n",
      " 89  restrictions_on_internal_movement   float64\n",
      " 90  international_travel_controls       float64\n",
      " 91  income_support                      float64\n",
      " 92  debt_relief                         float64\n",
      " 93  fiscal_measures                     float64\n",
      " 94  international_support               float64\n",
      " 95  public_information_campaigns        float64\n",
      " 96  testing_policy                      float64\n",
      " 97  contact_tracing                     float64\n",
      " 98  emergency_investment_in_healthcare  float64\n",
      " 99  investment_in_vaccines              float64\n",
      " 100 stringency_index                    float64\n",
      " 101 noaa_station                        float64\n",
      " 102 noaa_distance                       float64\n",
      " 103 average_temperature                 float64\n",
      " 104 minimum_temperature                 float64\n",
      " 105 maximum_temperature                 float64\n",
      " 106 rainfall                            float64\n",
      " 107 snowfall                            float64\n",
      " 108 dew_point                           float64\n",
      " 109 relative_humidity                   float64\n",
      "dtypes: float64(94), int64(3), object(13)\n",
      "memory usage: 14.9+ MB\n"
     ]
    }
   ],
   "source": [
    "data.info(4)"
   ]
  },
  {
   "cell_type": "code",
   "execution_count": 44,
   "metadata": {},
   "outputs": [
    {
     "data": {
      "text/plain": [
       "Humboldt County           295\n",
       "Stanislaus County         295\n",
       "Placer County             295\n",
       "Napa County               295\n",
       "Inyo County               295\n",
       "Riverside County          295\n",
       "Yuba County               295\n",
       "Modoc County              295\n",
       "Mendocino County          295\n",
       "Glenn County              295\n",
       "San Bernardino County     295\n",
       "Tuolumne County           295\n",
       "Colusa County             295\n",
       "Kings County              295\n",
       "San Mateo County          295\n",
       "San Luis Obispo County    295\n",
       "Orange County             295\n",
       "Monterey County           295\n",
       "San Francisco County      295\n",
       "Los Angeles County        295\n",
       "Lassen County             295\n",
       "Calaveras County          295\n",
       "Kern County               295\n",
       "Solano County             295\n",
       "Amador County             295\n",
       "Alameda County            295\n",
       "Alpine County             295\n",
       "Sonoma County             295\n",
       "Mariposa County           295\n",
       "Merced County             295\n",
       "Sutter County             295\n",
       "Siskiyou County           295\n",
       "Santa Clara County        295\n",
       "Shasta County             295\n",
       "Plumas County             295\n",
       "Imperial County           295\n",
       "San Joaquin County        295\n",
       "El Dorado County          295\n",
       "Ventura County            295\n",
       "Madera County             295\n",
       "Marin County              295\n",
       "Contra Costa County       295\n",
       "Fresno County             295\n",
       "Santa Cruz County         295\n",
       "San Diego County          295\n",
       "Mono County               295\n",
       "Nevada County             295\n",
       "Trinity County            295\n",
       "Yolo County               295\n",
       "Sacramento County         295\n",
       "Del Norte County          295\n",
       "Tulare County             295\n",
       "Sierra County             295\n",
       "Tehama County             295\n",
       "Butte County              295\n",
       "Santa Barbara County      295\n",
       "Lake County               295\n",
       "San Benito County         295\n",
       "Name: subregion2_name, dtype: int64"
      ]
     },
     "execution_count": 44,
     "metadata": {},
     "output_type": "execute_result"
    }
   ],
   "source": [
    "data['subregion2_name'].value_counts()"
   ]
  },
  {
   "cell_type": "code",
   "execution_count": null,
   "metadata": {},
   "outputs": [],
   "source": []
  },
  {
   "cell_type": "code",
   "execution_count": 14,
   "metadata": {},
   "outputs": [],
   "source": [
    "# isolate location info\n",
    "# new = old[['A', 'C', 'D']].copy()\n",
    "\n",
    "data_geo = data[['open_street_maps',\n",
    " 'latitude',\n",
    " 'longitude',\n",
    " 'elevation',\n",
    " 'area',\n",
    " 'rural_area',\n",
    " 'urban_area']].copy()"
   ]
  },
  {
   "cell_type": "code",
   "execution_count": 15,
   "metadata": {},
   "outputs": [
    {
     "data": {
      "text/plain": [
       "(17700, 7)"
      ]
     },
     "execution_count": 15,
     "metadata": {},
     "output_type": "execute_result"
    }
   ],
   "source": [
    "data_geo.shape"
   ]
  },
  {
   "cell_type": "code",
   "execution_count": 20,
   "metadata": {},
   "outputs": [
    {
     "data": {
      "text/html": [
       "<div>\n",
       "<style scoped>\n",
       "    .dataframe tbody tr th:only-of-type {\n",
       "        vertical-align: middle;\n",
       "    }\n",
       "\n",
       "    .dataframe tbody tr th {\n",
       "        vertical-align: top;\n",
       "    }\n",
       "\n",
       "    .dataframe thead th {\n",
       "        text-align: right;\n",
       "    }\n",
       "</style>\n",
       "<table border=\"1\" class=\"dataframe\">\n",
       "  <thead>\n",
       "    <tr style=\"text-align: right;\">\n",
       "      <th></th>\n",
       "      <th>open_street_maps</th>\n",
       "      <th>latitude</th>\n",
       "      <th>longitude</th>\n",
       "      <th>elevation</th>\n",
       "      <th>area</th>\n",
       "      <th>rural_area</th>\n",
       "      <th>urban_area</th>\n",
       "    </tr>\n",
       "  </thead>\n",
       "  <tbody>\n",
       "    <tr>\n",
       "      <th>0</th>\n",
       "      <td>165475.0</td>\n",
       "      <td>37.0</td>\n",
       "      <td>-120.0</td>\n",
       "      <td>884.0</td>\n",
       "      <td>423970.0</td>\n",
       "      <td>NaN</td>\n",
       "      <td>NaN</td>\n",
       "    </tr>\n",
       "    <tr>\n",
       "      <th>1</th>\n",
       "      <td>165475.0</td>\n",
       "      <td>37.0</td>\n",
       "      <td>-120.0</td>\n",
       "      <td>884.0</td>\n",
       "      <td>423970.0</td>\n",
       "      <td>NaN</td>\n",
       "      <td>NaN</td>\n",
       "    </tr>\n",
       "    <tr>\n",
       "      <th>2</th>\n",
       "      <td>165475.0</td>\n",
       "      <td>37.0</td>\n",
       "      <td>-120.0</td>\n",
       "      <td>884.0</td>\n",
       "      <td>423970.0</td>\n",
       "      <td>NaN</td>\n",
       "      <td>NaN</td>\n",
       "    </tr>\n",
       "    <tr>\n",
       "      <th>3</th>\n",
       "      <td>165475.0</td>\n",
       "      <td>37.0</td>\n",
       "      <td>-120.0</td>\n",
       "      <td>884.0</td>\n",
       "      <td>423970.0</td>\n",
       "      <td>NaN</td>\n",
       "      <td>NaN</td>\n",
       "    </tr>\n",
       "    <tr>\n",
       "      <th>4</th>\n",
       "      <td>165475.0</td>\n",
       "      <td>37.0</td>\n",
       "      <td>-120.0</td>\n",
       "      <td>884.0</td>\n",
       "      <td>423970.0</td>\n",
       "      <td>NaN</td>\n",
       "      <td>NaN</td>\n",
       "    </tr>\n",
       "  </tbody>\n",
       "</table>\n",
       "</div>"
      ],
      "text/plain": [
       "   open_street_maps  latitude  longitude  elevation      area  rural_area  \\\n",
       "0          165475.0      37.0     -120.0      884.0  423970.0         NaN   \n",
       "1          165475.0      37.0     -120.0      884.0  423970.0         NaN   \n",
       "2          165475.0      37.0     -120.0      884.0  423970.0         NaN   \n",
       "3          165475.0      37.0     -120.0      884.0  423970.0         NaN   \n",
       "4          165475.0      37.0     -120.0      884.0  423970.0         NaN   \n",
       "\n",
       "   urban_area  \n",
       "0         NaN  \n",
       "1         NaN  \n",
       "2         NaN  \n",
       "3         NaN  \n",
       "4         NaN  "
      ]
     },
     "execution_count": 20,
     "metadata": {},
     "output_type": "execute_result"
    }
   ],
   "source": [
    "data_geo.head()"
   ]
  },
  {
   "cell_type": "code",
   "execution_count": 18,
   "metadata": {},
   "outputs": [],
   "source": [
    "# save to file for each state\n",
    "data_geo.to_csv('./data/data_ca_geo.csv')\n",
    "# data_geo.to_csv('./data/data_colo_geo.csv')\n",
    "# data_geo.to_csv('./data/data_oh_geo.csv')"
   ]
  },
  {
   "cell_type": "code",
   "execution_count": 21,
   "metadata": {},
   "outputs": [
    {
     "name": "stdout",
     "output_type": "stream",
     "text": [
      "<class 'pandas.core.frame.DataFrame'>\n",
      "RangeIndex: 17700 entries, 0 to 17699\n",
      "Data columns (total 7 columns):\n",
      " #   Column            Non-Null Count  Dtype  \n",
      "---  ------            --------------  -----  \n",
      " 0   open_street_maps  17700 non-null  float64\n",
      " 1   latitude          17700 non-null  float64\n",
      " 2   longitude         17700 non-null  float64\n",
      " 3   elevation         1180 non-null   float64\n",
      " 4   area              17700 non-null  float64\n",
      " 5   rural_area        0 non-null      float64\n",
      " 6   urban_area        0 non-null      float64\n",
      "dtypes: float64(7)\n",
      "memory usage: 968.1 KB\n"
     ]
    }
   ],
   "source": [
    "data_geo.info()"
   ]
  },
  {
   "cell_type": "code",
   "execution_count": 26,
   "metadata": {},
   "outputs": [
    {
     "data": {
      "text/plain": [
       "39.590000    590\n",
       "37.930000    590\n",
       "38.270000    295\n",
       "38.210000    295\n",
       "39.430000    295\n",
       "37.777500    295\n",
       "37.000000    295\n",
       "40.130000    295\n",
       "39.270000    295\n",
       "34.830000    295\n",
       "36.750000    295\n",
       "33.020000    295\n",
       "36.583333    295\n",
       "40.660000    295\n",
       "38.580000    295\n",
       "37.220000    295\n",
       "34.360000    295\n",
       "38.500000    295\n",
       "37.190000    295\n",
       "41.740000    295\n",
       "37.030000    295\n",
       "36.610000    295\n",
       "36.070000    295\n",
       "38.553889    295\n",
       "33.730000    295\n",
       "39.040000    295\n",
       "39.300000    295\n",
       "40.650000    295\n",
       "37.440000    295\n",
       "38.040000    295\n",
       "40.760000    295\n",
       "37.916667    295\n",
       "37.778333    295\n",
       "39.090000    295\n",
       "36.240000    295\n",
       "40.010000    295\n",
       "33.670000    295\n",
       "35.380000    295\n",
       "36.230000    295\n",
       "38.020000    295\n",
       "41.583333    295\n",
       "40.800000    295\n",
       "35.340000    295\n",
       "39.660000    295\n",
       "39.060000    295\n",
       "38.440000    295\n",
       "37.580000    295\n",
       "38.780000    295\n",
       "34.540000    295\n",
       "37.360000    295\n",
       "38.450000    295\n",
       "34.050000    295\n",
       "38.510000    295\n",
       "39.180000    295\n",
       "41.600000    295\n",
       "37.650000    295\n",
       "37.560000    295\n",
       "33.040000    295\n",
       "Name: latitude, dtype: int64"
      ]
     },
     "execution_count": 26,
     "metadata": {},
     "output_type": "execute_result"
    }
   ],
   "source": [
    "data_geo['latitude'].value_counts()"
   ]
  },
  {
   "cell_type": "markdown",
   "metadata": {},
   "source": [
    "#### Geographic info -- summary:\n",
    "https://github.com/GoogleCloudPlatform/covid-19-open-data/blob/main/docs/table-geography.md\n",
    "\n",
    "California:\n",
    "1. There are 295 observations (rows) for CA-state, and for each county (58 counties)\n",
    "1. Observations are at the day level (Oct 2, Oct 3, etc.), starting Jan 1, 2020\n",
    "1. No data for:  elevation, rural vs. urban designation\n",
    "1. All geo values are floats.\n",
    "\n",
    "Colorado, Ohio -- TBD"
   ]
  },
  {
   "cell_type": "code",
   "execution_count": 27,
   "metadata": {},
   "outputs": [],
   "source": [
    "# create a lat-long file\n",
    "# new = old[['A', 'C', 'D']].copy()\n",
    "\n",
    "data_latlong = data[['latitude', 'longitude']].copy()\n",
    "data_latlong.shape"
   ]
  },
  {
   "cell_type": "code",
   "execution_count": 29,
   "metadata": {},
   "outputs": [
    {
     "name": "stdout",
     "output_type": "stream",
     "text": [
      "<class 'pandas.core.frame.DataFrame'>\n",
      "RangeIndex: 17700 entries, 0 to 17699\n",
      "Data columns (total 2 columns):\n",
      " #   Column     Non-Null Count  Dtype  \n",
      "---  ------     --------------  -----  \n",
      " 0   latitude   17700 non-null  float64\n",
      " 1   longitude  17700 non-null  float64\n",
      "dtypes: float64(2)\n",
      "memory usage: 276.7 KB\n"
     ]
    }
   ],
   "source": [
    "data_latlong.info()"
   ]
  },
  {
   "cell_type": "code",
   "execution_count": 30,
   "metadata": {},
   "outputs": [
    {
     "data": {
      "text/html": [
       "<div>\n",
       "<style scoped>\n",
       "    .dataframe tbody tr th:only-of-type {\n",
       "        vertical-align: middle;\n",
       "    }\n",
       "\n",
       "    .dataframe tbody tr th {\n",
       "        vertical-align: top;\n",
       "    }\n",
       "\n",
       "    .dataframe thead th {\n",
       "        text-align: right;\n",
       "    }\n",
       "</style>\n",
       "<table border=\"1\" class=\"dataframe\">\n",
       "  <thead>\n",
       "    <tr style=\"text-align: right;\">\n",
       "      <th></th>\n",
       "      <th>latitude</th>\n",
       "      <th>longitude</th>\n",
       "    </tr>\n",
       "  </thead>\n",
       "  <tbody>\n",
       "    <tr>\n",
       "      <th>0</th>\n",
       "      <td>37.0</td>\n",
       "      <td>-120.0</td>\n",
       "    </tr>\n",
       "    <tr>\n",
       "      <th>1</th>\n",
       "      <td>37.0</td>\n",
       "      <td>-120.0</td>\n",
       "    </tr>\n",
       "    <tr>\n",
       "      <th>2</th>\n",
       "      <td>37.0</td>\n",
       "      <td>-120.0</td>\n",
       "    </tr>\n",
       "    <tr>\n",
       "      <th>3</th>\n",
       "      <td>37.0</td>\n",
       "      <td>-120.0</td>\n",
       "    </tr>\n",
       "    <tr>\n",
       "      <th>4</th>\n",
       "      <td>37.0</td>\n",
       "      <td>-120.0</td>\n",
       "    </tr>\n",
       "  </tbody>\n",
       "</table>\n",
       "</div>"
      ],
      "text/plain": [
       "   latitude  longitude\n",
       "0      37.0     -120.0\n",
       "1      37.0     -120.0\n",
       "2      37.0     -120.0\n",
       "3      37.0     -120.0\n",
       "4      37.0     -120.0"
      ]
     },
     "execution_count": 30,
     "metadata": {},
     "output_type": "execute_result"
    }
   ],
   "source": [
    "data_latlong.head()"
   ]
  },
  {
   "cell_type": "code",
   "execution_count": 31,
   "metadata": {},
   "outputs": [],
   "source": [
    "# save latlong data to file for each state\n",
    "data_latlong.to_csv('./data/data_ca_latlong.csv')\n",
    "# data_latlong.to_csv('./data/data_colo_latlong.csv')\n",
    "# data_latlong.to_csv('./data/data_oh_latlong.csv')"
   ]
  },
  {
   "cell_type": "code",
   "execution_count": null,
   "metadata": {},
   "outputs": [],
   "source": []
  },
  {
   "cell_type": "markdown",
   "metadata": {},
   "source": [
    "### Covid info -- summary:\n",
    "https://github.com/GoogleCloudPlatform/covid-19-open-data/blob/main/docs/table-epidemiology.md\n",
    "\n",
    "California:\n",
    "1. The columns with the most Covid data are \n",
    "> new_confirmed, new_recovered, total_confirmed, total_deceased.\n",
    "1. Covid data has several empty columns, include hospitalizations, intensive care, ventilators\n",
    "    \n",
    "    \n",
    "Colorado, Ohio -- TBD"
   ]
  },
  {
   "cell_type": "code",
   "execution_count": 45,
   "metadata": {},
   "outputs": [
    {
     "data": {
      "text/plain": [
       "(17700, 18)"
      ]
     },
     "execution_count": 45,
     "metadata": {},
     "output_type": "execute_result"
    }
   ],
   "source": [
    "data_covid = data[['date', 'new_confirmed',\n",
    " 'new_deceased',\n",
    " 'new_recovered',\n",
    " 'new_tested',\n",
    " 'total_confirmed',\n",
    " 'total_deceased',\n",
    " 'total_recovered',\n",
    " 'total_tested',\n",
    " 'new_hospitalized',\n",
    " 'total_hospitalized',\n",
    " 'current_hospitalized',\n",
    " 'new_intensive_care',\n",
    " 'total_intensive_care',\n",
    " 'current_intensive_care',\n",
    " 'new_ventilator',\n",
    " 'total_ventilator',\n",
    " 'current_ventilator']].copy()\n",
    "data_covid.shape"
   ]
  },
  {
   "cell_type": "code",
   "execution_count": 46,
   "metadata": {},
   "outputs": [
    {
     "name": "stdout",
     "output_type": "stream",
     "text": [
      "<class 'pandas.core.frame.DataFrame'>\n",
      "RangeIndex: 17700 entries, 0 to 17699\n",
      "Data columns (total 18 columns):\n",
      " #   Column                  Non-Null Count  Dtype  \n",
      "---  ------                  --------------  -----  \n",
      " 0   date                    17700 non-null  object \n",
      " 1   new_confirmed           12994 non-null  float64\n",
      " 2   new_deceased            12768 non-null  float64\n",
      " 3   new_recovered           0 non-null      float64\n",
      " 4   new_tested              461 non-null    float64\n",
      " 5   total_confirmed         13059 non-null  float64\n",
      " 6   total_deceased          12827 non-null  float64\n",
      " 7   total_recovered         0 non-null      float64\n",
      " 8   total_tested            462 non-null    float64\n",
      " 9   new_hospitalized        0 non-null      float64\n",
      " 10  total_hospitalized      0 non-null      float64\n",
      " 11  current_hospitalized    417 non-null    float64\n",
      " 12  new_intensive_care      0 non-null      float64\n",
      " 13  total_intensive_care    0 non-null      float64\n",
      " 14  current_intensive_care  417 non-null    float64\n",
      " 15  new_ventilator          0 non-null      float64\n",
      " 16  total_ventilator        0 non-null      float64\n",
      " 17  current_ventilator      0 non-null      float64\n",
      "dtypes: float64(17), object(1)\n",
      "memory usage: 2.4+ MB\n"
     ]
    }
   ],
   "source": [
    "data_covid.info()"
   ]
  },
  {
   "cell_type": "code",
   "execution_count": 39,
   "metadata": {
    "collapsed": true,
    "jupyter": {
     "outputs_hidden": true
    }
   },
   "outputs": [
    {
     "data": {
      "text/html": [
       "<div>\n",
       "<style scoped>\n",
       "    .dataframe tbody tr th:only-of-type {\n",
       "        vertical-align: middle;\n",
       "    }\n",
       "\n",
       "    .dataframe tbody tr th {\n",
       "        vertical-align: top;\n",
       "    }\n",
       "\n",
       "    .dataframe thead th {\n",
       "        text-align: right;\n",
       "    }\n",
       "</style>\n",
       "<table border=\"1\" class=\"dataframe\">\n",
       "  <thead>\n",
       "    <tr style=\"text-align: right;\">\n",
       "      <th></th>\n",
       "      <th>0</th>\n",
       "      <th>1</th>\n",
       "      <th>2</th>\n",
       "      <th>3</th>\n",
       "      <th>4</th>\n",
       "    </tr>\n",
       "  </thead>\n",
       "  <tbody>\n",
       "    <tr>\n",
       "      <th>new_confirmed</th>\n",
       "      <td>NaN</td>\n",
       "      <td>NaN</td>\n",
       "      <td>NaN</td>\n",
       "      <td>NaN</td>\n",
       "      <td>NaN</td>\n",
       "    </tr>\n",
       "    <tr>\n",
       "      <th>new_deceased</th>\n",
       "      <td>NaN</td>\n",
       "      <td>NaN</td>\n",
       "      <td>NaN</td>\n",
       "      <td>NaN</td>\n",
       "      <td>NaN</td>\n",
       "    </tr>\n",
       "    <tr>\n",
       "      <th>new_recovered</th>\n",
       "      <td>NaN</td>\n",
       "      <td>NaN</td>\n",
       "      <td>NaN</td>\n",
       "      <td>NaN</td>\n",
       "      <td>NaN</td>\n",
       "    </tr>\n",
       "    <tr>\n",
       "      <th>new_tested</th>\n",
       "      <td>NaN</td>\n",
       "      <td>NaN</td>\n",
       "      <td>NaN</td>\n",
       "      <td>NaN</td>\n",
       "      <td>NaN</td>\n",
       "    </tr>\n",
       "    <tr>\n",
       "      <th>total_confirmed</th>\n",
       "      <td>NaN</td>\n",
       "      <td>NaN</td>\n",
       "      <td>NaN</td>\n",
       "      <td>NaN</td>\n",
       "      <td>NaN</td>\n",
       "    </tr>\n",
       "    <tr>\n",
       "      <th>total_deceased</th>\n",
       "      <td>NaN</td>\n",
       "      <td>NaN</td>\n",
       "      <td>NaN</td>\n",
       "      <td>NaN</td>\n",
       "      <td>NaN</td>\n",
       "    </tr>\n",
       "    <tr>\n",
       "      <th>total_recovered</th>\n",
       "      <td>NaN</td>\n",
       "      <td>NaN</td>\n",
       "      <td>NaN</td>\n",
       "      <td>NaN</td>\n",
       "      <td>NaN</td>\n",
       "    </tr>\n",
       "    <tr>\n",
       "      <th>total_tested</th>\n",
       "      <td>NaN</td>\n",
       "      <td>NaN</td>\n",
       "      <td>NaN</td>\n",
       "      <td>NaN</td>\n",
       "      <td>NaN</td>\n",
       "    </tr>\n",
       "    <tr>\n",
       "      <th>new_hospitalized</th>\n",
       "      <td>NaN</td>\n",
       "      <td>NaN</td>\n",
       "      <td>NaN</td>\n",
       "      <td>NaN</td>\n",
       "      <td>NaN</td>\n",
       "    </tr>\n",
       "    <tr>\n",
       "      <th>total_hospitalized</th>\n",
       "      <td>NaN</td>\n",
       "      <td>NaN</td>\n",
       "      <td>NaN</td>\n",
       "      <td>NaN</td>\n",
       "      <td>NaN</td>\n",
       "    </tr>\n",
       "    <tr>\n",
       "      <th>current_hospitalized</th>\n",
       "      <td>NaN</td>\n",
       "      <td>NaN</td>\n",
       "      <td>NaN</td>\n",
       "      <td>NaN</td>\n",
       "      <td>NaN</td>\n",
       "    </tr>\n",
       "    <tr>\n",
       "      <th>new_intensive_care</th>\n",
       "      <td>NaN</td>\n",
       "      <td>NaN</td>\n",
       "      <td>NaN</td>\n",
       "      <td>NaN</td>\n",
       "      <td>NaN</td>\n",
       "    </tr>\n",
       "    <tr>\n",
       "      <th>total_intensive_care</th>\n",
       "      <td>NaN</td>\n",
       "      <td>NaN</td>\n",
       "      <td>NaN</td>\n",
       "      <td>NaN</td>\n",
       "      <td>NaN</td>\n",
       "    </tr>\n",
       "    <tr>\n",
       "      <th>current_intensive_care</th>\n",
       "      <td>NaN</td>\n",
       "      <td>NaN</td>\n",
       "      <td>NaN</td>\n",
       "      <td>NaN</td>\n",
       "      <td>NaN</td>\n",
       "    </tr>\n",
       "    <tr>\n",
       "      <th>new_ventilator</th>\n",
       "      <td>NaN</td>\n",
       "      <td>NaN</td>\n",
       "      <td>NaN</td>\n",
       "      <td>NaN</td>\n",
       "      <td>NaN</td>\n",
       "    </tr>\n",
       "    <tr>\n",
       "      <th>total_ventilator</th>\n",
       "      <td>NaN</td>\n",
       "      <td>NaN</td>\n",
       "      <td>NaN</td>\n",
       "      <td>NaN</td>\n",
       "      <td>NaN</td>\n",
       "    </tr>\n",
       "    <tr>\n",
       "      <th>current_ventilator</th>\n",
       "      <td>NaN</td>\n",
       "      <td>NaN</td>\n",
       "      <td>NaN</td>\n",
       "      <td>NaN</td>\n",
       "      <td>NaN</td>\n",
       "    </tr>\n",
       "  </tbody>\n",
       "</table>\n",
       "</div>"
      ],
      "text/plain": [
       "                         0   1   2   3   4\n",
       "new_confirmed          NaN NaN NaN NaN NaN\n",
       "new_deceased           NaN NaN NaN NaN NaN\n",
       "new_recovered          NaN NaN NaN NaN NaN\n",
       "new_tested             NaN NaN NaN NaN NaN\n",
       "total_confirmed        NaN NaN NaN NaN NaN\n",
       "total_deceased         NaN NaN NaN NaN NaN\n",
       "total_recovered        NaN NaN NaN NaN NaN\n",
       "total_tested           NaN NaN NaN NaN NaN\n",
       "new_hospitalized       NaN NaN NaN NaN NaN\n",
       "total_hospitalized     NaN NaN NaN NaN NaN\n",
       "current_hospitalized   NaN NaN NaN NaN NaN\n",
       "new_intensive_care     NaN NaN NaN NaN NaN\n",
       "total_intensive_care   NaN NaN NaN NaN NaN\n",
       "current_intensive_care NaN NaN NaN NaN NaN\n",
       "new_ventilator         NaN NaN NaN NaN NaN\n",
       "total_ventilator       NaN NaN NaN NaN NaN\n",
       "current_ventilator     NaN NaN NaN NaN NaN"
      ]
     },
     "execution_count": 39,
     "metadata": {},
     "output_type": "execute_result"
    }
   ],
   "source": [
    "data_covid.head().T"
   ]
  },
  {
   "cell_type": "code",
   "execution_count": 47,
   "metadata": {},
   "outputs": [],
   "source": [
    "# save Covid data to file for each state\n",
    "\n",
    "data_covid.to_csv('./data/data_ca_covid.csv')\n",
    "# data_covid.to_csv('./data/data_colo_covid.csv')\n",
    "# data_covid.to_csv('./data/data_oh_covid.csv')"
   ]
  },
  {
   "cell_type": "code",
   "execution_count": null,
   "metadata": {},
   "outputs": [],
   "source": []
  }
 ],
 "metadata": {
  "kernelspec": {
   "display_name": "Python 3",
   "language": "python",
   "name": "python3"
  },
  "language_info": {
   "codemirror_mode": {
    "name": "ipython",
    "version": 3
   },
   "file_extension": ".py",
   "mimetype": "text/x-python",
   "name": "python",
   "nbconvert_exporter": "python",
   "pygments_lexer": "ipython3",
   "version": "3.8.3"
  }
 },
 "nbformat": 4,
 "nbformat_minor": 4
}
